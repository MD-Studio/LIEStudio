{
 "cells": [
  {
   "cell_type": "code",
   "execution_count": null,
   "metadata": {},
   "outputs": [],
   "source": [
    "import sys, os, time\n",
    "modulepath = os.path.abspath(os.path.join(os.getcwd(), '../'))\n",
    "sys.path.insert(0, modulepath)\n",
    "\n",
    "from lie_graph import Graph\n",
    "from lie_graph.graph_algorithms import node_neighbors, dijkstra_shortest_path"
   ]
  },
  {
   "cell_type": "markdown",
   "metadata": {},
   "source": [
    "### A Graph is a container with nodes and edges"
   ]
  },
  {
   "cell_type": "markdown",
   "metadata": {},
   "source": [
    "A graph is a collection of nodes connected using edges. In lie_graph, nodes\n",
    "can be any arbitrary piece of data as long as it is hashable such as: text,\n",
    "numbers, images, files or even Python functions or other objects.\n",
    "Nodes are added to the graph using the 'add_node' for a single node or\n",
    "'add_nodes' for multiple nodes at once. The functionality for adding nodes\n",
    "is similar to most other graph packages including NetworkX."
   ]
  },
  {
   "cell_type": "code",
   "execution_count": null,
   "metadata": {},
   "outputs": [],
   "source": [
    "g = Graph()\n",
    "\n",
    "print(g)\n",
    "print(g.nodes, g.edges)"
   ]
  },
  {
   "cell_type": "markdown",
   "metadata": {},
   "source": [
    "**Node storage**\n",
    "\n",
    "The lie_graph uses flexible storage drivers to store node and edge\n",
    "information. The default driver stores information as a Python dictionary but\n",
    "this may well be a driver that stores information in a high-performance data\n",
    "store. The store driver API enforces key/value storage in which the node\n",
    "identifier is the key and node attributes the value.\n",
    "A graph natively supports the storage of multiple node attributes and\n",
    "therefor most node related functions expect a node value to behave in a\n",
    "Python dictionary like fashion."
   ]
  },
  {
   "cell_type": "markdown",
   "metadata": {},
   "source": [
    "### Adding nodes\n",
    "\n",
    "**Node identifiers**\n",
    "The node key serves as the identifiers (nid) and may be any hashable object\n",
    "except None. It is important to ensure that node identifiers are unique\n",
    "because the node storage by default do not store node identifiers in a\n",
    "hierarchical way. Identical node IDs derived from different dictionaries or\n",
    "hierarchical data constructs for instance will no longer be unique.\n",
    "The 'add_node(s)' methods will raise a GraphException when a duplicate nid is\n",
    "encountered. To ensure unique nids, the Graph class will assign a unique nid\n",
    "automatically when the Graph.auto_nid attribute is set to True (by default).\n",
    "This automatically incremented integer will function as primary node ID.\n",
    "\n",
    "**Node attributes**\n",
    "Any additional key/value pair used as input to the 'add_node' or 'add_nodes'\n",
    "method will be added to the node value dictionary as attribute."
   ]
  },
  {
   "cell_type": "code",
   "execution_count": null,
   "metadata": {},
   "outputs": [],
   "source": [
    "nid = g.add_node('node', node_attr=100, value=int(time.time()))\n",
    "\n",
    "print(nid)\n",
    "print(g)\n",
    "print(g.nodes())"
   ]
  },
  {
   "cell_type": "code",
   "execution_count": null,
   "metadata": {},
   "outputs": [],
   "source": [
    "nids = g.add_nodes(['data', 1.22, True, len], value=int(time.time()))\n",
    "nids.extend(g.add_nodes('iterable', node_attr=50))\n",
    "\n",
    "print(nids)"
   ]
  },
  {
   "cell_type": "markdown",
   "metadata": {},
   "source": [
    "### Adding edges"
   ]
  },
  {
   "cell_type": "code",
   "execution_count": null,
   "metadata": {},
   "outputs": [],
   "source": [
    "eid = g.add_edge(1, 2, edge_attr='text')\n",
    "\n",
    "print(eid)\n",
    "print(g)\n",
    "print(g.edges())"
   ]
  },
  {
   "cell_type": "code",
   "execution_count": null,
   "metadata": {},
   "outputs": [],
   "source": [
    "eid = g.add_edge(2, 3, directed=True)\n",
    "\n",
    "print(g.edges())"
   ]
  },
  {
   "cell_type": "code",
   "execution_count": null,
   "metadata": {},
   "outputs": [],
   "source": [
    "eids = g.add_edges([(2, 4), (4, 5), (4, 6), (5, 7), (6, 8), (7, 9), (8, 9), (9, 10), (10, 11), (10, 12), (10, 13)])\n",
    "\n",
    "print(eids)\n",
    "print(g)"
   ]
  },
  {
   "cell_type": "markdown",
   "metadata": {},
   "source": [
    "### Working with node collections"
   ]
  },
  {
   "cell_type": "code",
   "execution_count": null,
   "metadata": {},
   "outputs": [],
   "source": [
    "sel = g.getnodes([9, 10, 11, 12])\n",
    "\n",
    "print(sel)\n",
    "print(len(sel))\n",
    "print(sel in g)\n",
    "print(g in sel)\n",
    "\n",
    "# Node collections behave as dicts\n",
    "print(g.keys())\n",
    "print(g.values())"
   ]
  },
  {
   "cell_type": "code",
   "execution_count": null,
   "metadata": {},
   "outputs": [],
   "source": [
    "print(g.node_key_tag, g.node_value_tag)\n",
    "print(g.items('_id', 'node_attr'))"
   ]
  },
  {
   "cell_type": "code",
   "execution_count": null,
   "metadata": {},
   "outputs": [],
   "source": [
    "# Graph algorithms\n",
    "print(node_neighbors(g, 10))\n",
    "print(dijkstra_shortest_path(g, 4, 9))"
   ]
  },
  {
   "cell_type": "code",
   "execution_count": null,
   "metadata": {},
   "outputs": [],
   "source": [
    "# Node collections are also lists\n",
    "print(list(sel))"
   ]
  },
  {
   "cell_type": "code",
   "execution_count": null,
   "metadata": {},
   "outputs": [],
   "source": [
    "# Other ways of selecting nodes\n",
    "sel = g.query_nodes(node_attr=50)\n",
    "sel.is_masked=True\n",
    "\n",
    "print(sel)\n",
    "print(sel.nodes.keys(), sel.edges.keys())\n",
    "\n",
    "for node in sel:\n",
    "    print(node)"
   ]
  },
  {
   "cell_type": "markdown",
   "metadata": {},
   "source": [
    "### Working with single nodes"
   ]
  },
  {
   "cell_type": "code",
   "execution_count": null,
   "metadata": {},
   "outputs": [],
   "source": [
    "# Nodes are views on the data\n",
    "node = g.getnodes(6)\n",
    "print(node, node.key)\n",
    "\n",
    "node2 = g.getnodes(6)\n",
    "node2.key = 'z'\n",
    "print(node, node.key, node2.key)"
   ]
  },
  {
   "cell_type": "code",
   "execution_count": null,
   "metadata": {},
   "outputs": [],
   "source": [
    "# A single node is a special instance of the Graph class\n",
    "print(node.node_tools)\n",
    "print(node.orm)\n",
    "\n",
    "node.set('value','lie')\n",
    "print(len(node))\n",
    "print(node.nid)\n",
    "print(node['node_attr'])\n",
    "print(node.get('value'))\n",
    "print('value' in node)"
   ]
  },
  {
   "cell_type": "code",
   "execution_count": null,
   "metadata": {},
   "outputs": [],
   "source": [
    "# A query for a node that does not exist returns a empty graph\n",
    "empty_graph = g.query_nodes(key='void')\n",
    "print(empty_graph)\n",
    "print(empty_graph.empty())"
   ]
  }
 ],
 "metadata": {
  "kernelspec": {
   "display_name": "Python 2",
   "language": "python",
   "name": "python2"
  },
  "language_info": {
   "codemirror_mode": {
    "name": "ipython",
    "version": 2
   },
   "file_extension": ".py",
   "mimetype": "text/x-python",
   "name": "python",
   "nbconvert_exporter": "python",
   "pygments_lexer": "ipython2",
   "version": "2.7.14"
  }
 },
 "nbformat": 4,
 "nbformat_minor": 2
}
